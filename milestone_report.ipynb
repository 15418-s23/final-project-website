{
 "cells": [
  {
   "attachments": {},
   "cell_type": "markdown",
   "metadata": {},
   "source": [
    "## Project Milestone Report (due Wednesday, April 19, 9:00am)"
   ]
  },
  {
   "attachments": {},
   "cell_type": "markdown",
   "metadata": {},
   "source": [
    "The milestone exists is to give you a deadline approximately halfway through the project. The\n",
    "following are suggestions for information to include in your milestone write-up. Your goal in the\n",
    "writeup is to assure the course staff (and yourself) that your project is proceeding as you said\n",
    "it would in your proposal. If it is not, your milestone writeup should emphasize what has been\n",
    "causing you problems, and provide an adjusted schedule and adjusted goals. As projects differ,\n",
    "not all items in the list below are relevant to all projects."
   ]
  },
  {
   "attachments": {},
   "cell_type": "markdown",
   "metadata": {},
   "source": [
    "## Project schedule\n",
    "Make sure your project schedule on your main project page is up to date with work\n",
    "completed so far, and well as with a revised plan of work for the coming weeks. As by this\n",
    "time you should have a good understanding of what is required to complete your project,\n",
    "I want to see a very detailed schedule for the coming weeks. I suggest breaking time down\n",
    "into half-week increments. Each increment should have at least one task, and for each task\n",
    "put a person’s name on it."
   ]
  },
  {
   "attachments": {},
   "cell_type": "markdown",
   "metadata": {},
   "source": [
    "## Summarize the work that you have completed"
   ]
  },
  {
   "attachments": {},
   "cell_type": "markdown",
   "metadata": {},
   "source": [
    "> "
   ]
  },
  {
   "cell_type": "code",
   "execution_count": null,
   "metadata": {},
   "outputs": [],
   "source": [
    "\n",
    "\n",
    "• \n",
    "• One to two paragraphs, summarize the work that you have completed so far. (This should\n",
    "be easy if you have been maintaining this information on your project page.)\n",
    "• Describe how you are doing with respect to the goals and deliverables stated in your\n",
    "proposal. Do you still believe you will be able to produce all your deliverables? If not,\n",
    "why? What about the ”nice to haves”? In your milestone writeup we want a new list of\n",
    "goals that you plan to hit for the poster session.\n",
    "• What do you plan to show at the poster session? Will it be a demo? Will it be a graph?\n",
    "• Do you have preliminary results at this time? If so, it would be great to included them in\n",
    "your milestone write-up.\n",
    "4\n",
    "• List the issues that concern you the most. Are there any remaining unknowns (things you\n",
    "simply don’t know how to solve, or resource you don’t know how to get) or is it just a\n",
    "matter of coding and doing the work? If you do not wish to put this information on a\n",
    "public web site you are welcome to email the staff directly.\n",
    "• Meet with the course staff to discuss your progress.\n",
    "• Submit your milestone report by (i) posting it to your project web page, and (ii)\n",
    "uploading it (a full PDF, not just a link) into Gradescope."
   ]
  }
 ],
 "metadata": {
  "language_info": {
   "name": "python"
  },
  "orig_nbformat": 4
 },
 "nbformat": 4,
 "nbformat_minor": 2
}
